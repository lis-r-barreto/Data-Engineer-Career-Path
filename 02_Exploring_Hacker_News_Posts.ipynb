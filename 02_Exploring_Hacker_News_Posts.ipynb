{
  "nbformat": 4,
  "nbformat_minor": 0,
  "metadata": {
    "kernelspec": {
      "display_name": "Python 3",
      "language": "python",
      "name": "python3"
    },
    "language_info": {
      "codemirror_mode": {
        "name": "ipython",
        "version": 3
      },
      "file_extension": ".py",
      "mimetype": "text/x-python",
      "name": "python",
      "nbconvert_exporter": "python",
      "pygments_lexer": "ipython3",
      "version": "3.8.5"
    },
    "colab": {
      "name": "02-Exploring-Hacker-News-Posts.ipynb",
      "provenance": [],
      "include_colab_link": true
    }
  },
  "cells": [
    {
      "cell_type": "markdown",
      "metadata": {
        "id": "view-in-github",
        "colab_type": "text"
      },
      "source": [
        "<a href=\"https://colab.research.google.com/github/lis-r-barreto/Data-Engineering-Portfolio/blob/main/02_Exploring_Hacker_News_Posts.ipynb\" target=\"_parent\"><img src=\"https://colab.research.google.com/assets/colab-badge.svg\" alt=\"Open In Colab\"/></a>"
      ]
    },
    {
      "cell_type": "markdown",
      "source": [
        "# **Explorando Postagens do Hacker News**\n",
        "\n",
        "*(Exploring Hacker News Posts)*\n",
        "\n",
        "\n",
        "<p align=\"center\">\n",
        "  <img src=\"https://miro.medium.com/max/700/1*CVOGx9ckrpWyTvtQgauYpw.jpeg\" width=\"300\" >\n",
        "</p>"
      ],
      "metadata": {
        "id": "m67xgAgDlxSy"
      }
    },
    {
      "cell_type": "markdown",
      "metadata": {
        "id": "mzsKWAjOQe5Y"
      },
      "source": [
        "## **Introdução**\n",
        "\n",
        "O Hacker News é um site iniciado pela incubadora de startups [Y Combinator](https://www.ycombinator.com/), onde as histórias enviadas por usuários (conhecidas como \"posts\") são votadas e comentadas, semelhante ao reddit. O Hacker News é extremamente popular nos círculos de tecnologia e startups, e as postagens que chegam ao topo das listagens do Hacker News podem receber centenas de milhares de visitantes como resultado.\n",
        "\n",
        "\n",
        "## **Objetivo**\n",
        "Estamos especificamente interessados ​​em postagens cujos títulos começam com Ask HN ou Show HN. Os usuários enviam postagens Ask HN para fazer uma pergunta específica à comunidade Hacker News. Abaixo segue um exemplo:\n",
        "\n",
        "*Ask HN: Como melhorar meu site pessoal?*\n",
        "\n",
        "Da mesma forma, os usuários enviam postagens do Show HN para mostrar à comunidade do Hacker News um projeto, produto ou apenas algo interessante. Abaixo segue um exemplo:\n",
        "\n",
        "*Show HN: Plataforma de desenvolvimento de hardware baseada em Wio Link ESP8266 Web of Things'*\n",
        "\n",
        "Compararemos esses dois tipos de postagens para determinar o seguinte:\n",
        "- Em média, quais postagens recebem mais comentários? Os posts cujos títulos começam com Ask HN ou Show HN?\n",
        "- Em média, qual horário recebe uma quantidade maior de comentários?\n",
        "\n",
        "## **Abrindo e explorando os dados**\n",
        "\n",
        "Você pode encontrar o conjunto de dados [aqui](https://www.kaggle.com/hacker-news/hacker-news-posts), mas observe que ele foi reduzido de quase 300.000 linhas para aproximadamente 20.000 linhas removendo todos os envios que não recebeu nenhum comentário e, em seguida, amostragem aleatória das submissões restantes.\n",
        "\n",
        "Abaixo estão as descrições das colunas:\n",
        "- id: O identificador exclusivo do Hacker News para a postagem\n",
        "- título: O título do post\n",
        "- url: o URL para o qual as postagens são vinculadas, se a postagem tiver uma URL\n",
        "- num_points: o número de pontos que o post adquiriu, calculado como o número total de votos positivos menos o número total de votos negativos\n",
        "- num_comments: O número de comentários que foram feitos no post\n",
        "- autor: o nome de usuário da pessoa que enviou a postagem\n",
        "- created_at: A data e hora em que a postagem foi enviada\n",
        "\n",
        "\n",
        "Vamos começar importando as bibliotecas que precisamos e lendo o conjunto de dados em uma lista de listas e explorando as primeiras 5 linhas."
      ]
    },
    {
      "cell_type": "code",
      "source": [
        "# Download do http para arquivo local\n",
        "!wget --quiet --show-progress https://raw.githubusercontent.com/saraheldawody/Exploring-Hacker-News-Posts/master/hacker_news.csv"
      ],
      "metadata": {
        "colab": {
          "base_uri": "https://localhost:8080/"
        },
        "id": "aW5J-HXjpAfU",
        "outputId": "bcb07182-9e0f-45e2-eb42-5fa1ded5eadf"
      },
      "execution_count": 2,
      "outputs": [
        {
          "output_type": "stream",
          "name": "stdout",
          "text": [
            "\rhacker_news.csv.1     0%[                    ]       0  --.-KB/s               \rhacker_news.csv.1   100%[===================>]   2.96M  --.-KB/s    in 0.07s   \n"
          ]
        }
      ]
    },
    {
      "cell_type": "code",
      "metadata": {
        "id": "Je2e1gI_Qe5h",
        "outputId": "23f096a3-2194-43bb-e62a-20053f9dac94",
        "colab": {
          "base_uri": "https://localhost:8080/"
        }
      },
      "source": [
        "from csv import reader\n",
        "\n",
        "opened_file = open ('hacker_news.csv',encoding = 'utf8')\n",
        "read_file = reader (opened_file)\n",
        "hn = list (read_file)\n",
        "\n",
        "for row in hn[:5]:\n",
        "    print (row)\n",
        "    print('\\n')"
      ],
      "execution_count": 3,
      "outputs": [
        {
          "output_type": "stream",
          "name": "stdout",
          "text": [
            "['id', 'title', 'url', 'num_points', 'num_comments', 'author', 'created_at']\n",
            "\n",
            "\n",
            "['12224879', 'Interactive Dynamic Video', 'http://www.interactivedynamicvideo.com/', '386', '52', 'ne0phyte', '8/4/2016 11:52']\n",
            "\n",
            "\n",
            "['10975351', 'How to Use Open Source and Shut the Fuck Up at the Same Time', 'http://hueniverse.com/2016/01/26/how-to-use-open-source-and-shut-the-fuck-up-at-the-same-time/', '39', '10', 'josep2', '1/26/2016 19:30']\n",
            "\n",
            "\n",
            "['11964716', \"Florida DJs May Face Felony for April Fools' Water Joke\", 'http://www.thewire.com/entertainment/2013/04/florida-djs-april-fools-water-joke/63798/', '2', '1', 'vezycash', '6/23/2016 22:20']\n",
            "\n",
            "\n",
            "['11919867', 'Technology ventures: From Idea to Enterprise', 'https://www.amazon.com/Technology-Ventures-Enterprise-Thomas-Byers/dp/0073523429', '3', '1', 'hswarna', '6/17/2016 0:01']\n",
            "\n",
            "\n"
          ]
        }
      ]
    },
    {
      "cell_type": "markdown",
      "metadata": {
        "id": "8sJH-DnPQe5m"
      },
      "source": [
        "Observe que a primeira lista nas listas internas contém os cabeçalhos das colunas e as listas posteriores contêm os dados de uma linha. Para analisar nossos dados, precisamos primeiro remover a linha que contém os cabeçalhos das colunas. Vamos remover essa primeira linha."
      ]
    },
    {
      "cell_type": "code",
      "metadata": {
        "id": "COKia5fSQe5p",
        "outputId": "67d432ae-ee4a-4e15-be4a-9b414c756262",
        "colab": {
          "base_uri": "https://localhost:8080/"
        }
      },
      "source": [
        "headers = hn[0]  #Não execute esta célula mais de uma vez\n",
        "hn = hn[1:]\n",
        "\n",
        "print (headers)\n",
        "print('\\n')\n",
        "for row in hn[:5]:\n",
        "    print (row)\n",
        "    print('\\n')"
      ],
      "execution_count": 4,
      "outputs": [
        {
          "output_type": "stream",
          "name": "stdout",
          "text": [
            "['id', 'title', 'url', 'num_points', 'num_comments', 'author', 'created_at']\n",
            "\n",
            "\n",
            "['12224879', 'Interactive Dynamic Video', 'http://www.interactivedynamicvideo.com/', '386', '52', 'ne0phyte', '8/4/2016 11:52']\n",
            "\n",
            "\n",
            "['10975351', 'How to Use Open Source and Shut the Fuck Up at the Same Time', 'http://hueniverse.com/2016/01/26/how-to-use-open-source-and-shut-the-fuck-up-at-the-same-time/', '39', '10', 'josep2', '1/26/2016 19:30']\n",
            "\n",
            "\n",
            "['11964716', \"Florida DJs May Face Felony for April Fools' Water Joke\", 'http://www.thewire.com/entertainment/2013/04/florida-djs-april-fools-water-joke/63798/', '2', '1', 'vezycash', '6/23/2016 22:20']\n",
            "\n",
            "\n",
            "['11919867', 'Technology ventures: From Idea to Enterprise', 'https://www.amazon.com/Technology-Ventures-Enterprise-Thomas-Byers/dp/0073523429', '3', '1', 'hswarna', '6/17/2016 0:01']\n",
            "\n",
            "\n",
            "['10301696', 'Note by Note: The Making of Steinway L1037 (2007)', 'http://www.nytimes.com/2007/11/07/movies/07stein.html?_r=0', '8', '2', 'walterbell', '9/30/2015 4:12']\n",
            "\n",
            "\n"
          ]
        }
      ]
    },
    {
      "cell_type": "markdown",
      "metadata": {
        "id": "ELtv6Iu0Qe5r"
      },
      "source": [
        "Agora que removemos os cabeçalhos de hn, estamos prontos para filtrar nossos dados. Como estamos preocupados apenas com títulos de postagem que começam com **Ask HN** ou **Show HN**, criaremos novas listas de listas contendo apenas os dados desses títulos."
      ]
    },
    {
      "cell_type": "markdown",
      "metadata": {
        "id": "EDN3EWw3Qe5t"
      },
      "source": [
        "## **Classificando os dados**\n",
        "\n",
        "Para encontrar as postagens que começam com Ask HN ou Show HN (e variações de maiúsculas e minúsculas), usaremos o método string `startswith` e verificaremos os dados imprimindo cinco linhas de cada lista."
      ]
    },
    {
      "cell_type": "code",
      "metadata": {
        "id": "UzOCBf8VQe5x",
        "outputId": "1ec68e2e-84c0-4b9b-eca9-e6562f0a4491",
        "colab": {
          "base_uri": "https://localhost:8080/"
        }
      },
      "source": [
        "ask_posts = []\n",
        "show_posts = []\n",
        "other_posts = []\n",
        "\n",
        "for row in hn:\n",
        "    title = row[1]\n",
        "    title_lower = title.lower()\n",
        "    \n",
        "    if title_lower.startswith('ask hn'):\n",
        "        ask_posts.append(row)\n",
        "    \n",
        "    elif title_lower.startswith('show hn'):\n",
        "        show_posts.append(row)\n",
        "        \n",
        "    else:\n",
        "        other_posts.append(row)\n",
        "        \n",
        "for row in ask_posts[:5]:\n",
        "    print (row)\n",
        "    print('\\n')\n",
        "print('\\n')\n",
        "for row in show_posts[:5]:\n",
        "    print (row)\n",
        "    print('\\n')\n",
        "print('\\n')\n",
        "for row in other_posts[:5]:\n",
        "    print (row)\n",
        "    print('\\n')\n",
        "print('Número de posts Ask HN:',len(ask_posts))\n",
        "print('Número de posts Show HN:',len(show_posts))\n",
        "print('Número de outros posts:',len(other_posts))"
      ],
      "execution_count": 5,
      "outputs": [
        {
          "output_type": "stream",
          "name": "stdout",
          "text": [
            "['12296411', 'Ask HN: How to improve my personal website?', '', '2', '6', 'ahmedbaracat', '8/16/2016 9:55']\n",
            "\n",
            "\n",
            "['10610020', 'Ask HN: Am I the only one outraged by Twitter shutting down share counts?', '', '28', '29', 'tkfx', '11/22/2015 13:43']\n",
            "\n",
            "\n",
            "['11610310', 'Ask HN: Aby recent changes to CSS that broke mobile?', '', '1', '1', 'polskibus', '5/2/2016 10:14']\n",
            "\n",
            "\n",
            "['12210105', 'Ask HN: Looking for Employee #3 How do I do it?', '', '1', '3', 'sph130', '8/2/2016 14:20']\n",
            "\n",
            "\n",
            "['10394168', 'Ask HN: Someone offered to buy my browser extension from me. What now?', '', '28', '17', 'roykolak', '10/15/2015 16:38']\n",
            "\n",
            "\n",
            "\n",
            "\n",
            "['10627194', 'Show HN: Wio Link  ESP8266 Based Web of Things Hardware Development Platform', 'https://iot.seeed.cc', '26', '22', 'kfihihc', '11/25/2015 14:03']\n",
            "\n",
            "\n",
            "['10646440', 'Show HN: Something pointless I made', 'http://dn.ht/picklecat/', '747', '102', 'dhotson', '11/29/2015 22:46']\n",
            "\n",
            "\n",
            "['11590768', 'Show HN: Shanhu.io, a programming playground powered by e8vm', 'https://shanhu.io', '1', '1', 'h8liu', '4/28/2016 18:05']\n",
            "\n",
            "\n",
            "['12178806', 'Show HN: Webscope  Easy way for web developers to communicate with Clients', 'http://webscopeapp.com', '3', '3', 'fastbrick', '7/28/2016 7:11']\n",
            "\n",
            "\n",
            "['10872799', 'Show HN: GeoScreenshot  Easily test Geo-IP based web pages', 'https://www.geoscreenshot.com/', '1', '9', 'kpsychwave', '1/9/2016 20:45']\n",
            "\n",
            "\n",
            "\n",
            "\n",
            "['12224879', 'Interactive Dynamic Video', 'http://www.interactivedynamicvideo.com/', '386', '52', 'ne0phyte', '8/4/2016 11:52']\n",
            "\n",
            "\n",
            "['10975351', 'How to Use Open Source and Shut the Fuck Up at the Same Time', 'http://hueniverse.com/2016/01/26/how-to-use-open-source-and-shut-the-fuck-up-at-the-same-time/', '39', '10', 'josep2', '1/26/2016 19:30']\n",
            "\n",
            "\n",
            "['11964716', \"Florida DJs May Face Felony for April Fools' Water Joke\", 'http://www.thewire.com/entertainment/2013/04/florida-djs-april-fools-water-joke/63798/', '2', '1', 'vezycash', '6/23/2016 22:20']\n",
            "\n",
            "\n",
            "['11919867', 'Technology ventures: From Idea to Enterprise', 'https://www.amazon.com/Technology-Ventures-Enterprise-Thomas-Byers/dp/0073523429', '3', '1', 'hswarna', '6/17/2016 0:01']\n",
            "\n",
            "\n",
            "['10301696', 'Note by Note: The Making of Steinway L1037 (2007)', 'http://www.nytimes.com/2007/11/07/movies/07stein.html?_r=0', '8', '2', 'walterbell', '9/30/2015 4:12']\n",
            "\n",
            "\n",
            "Número de posts Ask HN: 1744\n",
            "Número de posts Show HN: 1162\n",
            "Número de outros posts: 17194\n"
          ]
        }
      ]
    },
    {
      "cell_type": "markdown",
      "metadata": {
        "id": "OopAkcDkQe50"
      },
      "source": [
        "Em seguida, vamos determinar se as postagens de perguntas ou de exibição recebem mais comentários em média."
      ]
    },
    {
      "cell_type": "code",
      "metadata": {
        "id": "5hpk5sBeQe52",
        "outputId": "8e5f0aa8-7b23-458e-991f-ff56668e3cc2",
        "colab": {
          "base_uri": "https://localhost:8080/"
        }
      },
      "source": [
        "total_ask_comments = 0\n",
        "\n",
        "for row in ask_posts:\n",
        "    total_ask_comments +=  int(row[4])\n",
        "    \n",
        "avg_ask_comments = total_ask_comments / len (ask_posts)\n",
        "\n",
        "total_show_comments = 0\n",
        "\n",
        "for row in show_posts:\n",
        "    total_show_comments +=  int(row[4])\n",
        "    \n",
        "avg_show_comments = total_show_comments / len (show_posts)\n",
        "\n",
        "print('Número médio de comentários Ask HN:',avg_ask_comments)\n",
        "print('Número médio de comentários Show HN:',avg_show_comments)"
      ],
      "execution_count": 6,
      "outputs": [
        {
          "output_type": "stream",
          "name": "stdout",
          "text": [
            "Número médio de comentários Ask HN: 14.038417431192661\n",
            "Número médio de comentários Show HN: 10.31669535283993\n"
          ]
        }
      ]
    },
    {
      "cell_type": "markdown",
      "metadata": {
        "id": "AXs1YRLXQe55"
      },
      "source": [
        "## **Reformatando e analisando os dados**\n",
        "\n",
        "Fica claro que, em média, os posts de pergunta recebem mais comentários do que os posts de exibição. Como as postagens de perguntas são mais propensas a receber comentários, focaremos nossa análise restante apenas nessas postagens.\n",
        "\n",
        "Em seguida, determinaremos se as postagens de perguntas criadas em um determinado momento são mais propensas a atrair comentários. Usaremos as seguintes etapas para realizar essa análise:\n",
        "\n",
        "1. Calcular a quantidade de posts Ask HN criados em cada hora do dia, juntamente com o número de comentários recebidos.\n",
        "2. Calcular o número médio de comentários que as postagens de solicitação recebem por hora de criação."
      ]
    },
    {
      "cell_type": "markdown",
      "metadata": {
        "id": "KPZCP3SeQe57"
      },
      "source": [
        "Usaremos o módulo `datetime` para trabalhar com os dados na coluna ` created_at` para calcular a quantidade de postagens e comentários de perguntas por hora criados."
      ]
    },
    {
      "cell_type": "code",
      "metadata": {
        "id": "nNCDpDr3Qe58",
        "outputId": "8560f69a-0ac1-431a-cc17-92fb3b1af745",
        "colab": {
          "base_uri": "https://localhost:8080/"
        }
      },
      "source": [
        "import datetime as dt\n",
        "\n",
        "result_list = []\n",
        "\n",
        "for row in ask_posts:\n",
        "    result_list.append ( [ row[6] , int(row[4]) ] )\n",
        "    \n",
        "counts_by_hour = {}\n",
        "comments_by_hour = {}\n",
        "\n",
        "for row in result_list:\n",
        "    time_created = dt.datetime.strptime(row[0],'%m/%d/%Y %H:%M')\n",
        "    hour = time_created.hour\n",
        "    \n",
        "    if hour not in counts_by_hour:\n",
        "        counts_by_hour[hour] = 1\n",
        "        comments_by_hour[hour] = row[1]\n",
        "    else:\n",
        "        counts_by_hour[hour] += 1\n",
        "        comments_by_hour[hour] += row[1]\n",
        "\n",
        "print('O número de postagens de perguntas criadas durante cada hora do dia:')\n",
        "print(counts_by_hour)\n",
        "print('\\n')\n",
        "print('O número correspondente de comentários criados a cada hora recebida:')\n",
        "print(comments_by_hour)"
      ],
      "execution_count": 7,
      "outputs": [
        {
          "output_type": "stream",
          "name": "stdout",
          "text": [
            "O número de postagens de perguntas criadas durante cada hora do dia:\n",
            "{9: 45, 13: 85, 10: 59, 14: 107, 16: 108, 23: 68, 12: 73, 17: 100, 15: 116, 21: 109, 20: 80, 2: 58, 18: 109, 3: 54, 5: 46, 19: 110, 1: 60, 22: 71, 8: 48, 4: 47, 0: 55, 6: 44, 7: 34, 11: 58}\n",
            "\n",
            "\n",
            "O número correspondente de comentários criados a cada hora recebida:\n",
            "{9: 251, 13: 1253, 10: 793, 14: 1416, 16: 1814, 23: 543, 12: 687, 17: 1146, 15: 4477, 21: 1745, 20: 1722, 2: 1381, 18: 1439, 3: 421, 5: 464, 19: 1188, 1: 683, 22: 479, 8: 492, 4: 337, 0: 447, 6: 397, 7: 267, 11: 641}\n"
          ]
        }
      ]
    },
    {
      "cell_type": "markdown",
      "metadata": {
        "id": "I-4Y6a1SQe59"
      },
      "source": [
        "Em seguida, usaremos esses dois dicionários para calcular o número médio de comentários para postagens criadas durante cada hora do dia, criando uma lista de listas contendo as horas em que as postagens foram criadas e o número médio de comentários que essas postagens receberam."
      ]
    },
    {
      "cell_type": "code",
      "metadata": {
        "id": "bmnleCWsQe5-",
        "outputId": "3ba5123b-28e6-4384-e63b-4677b5a5a619",
        "colab": {
          "base_uri": "https://localhost:8080/"
        }
      },
      "source": [
        "avg_by_hour = []\n",
        "\n",
        "for hour in counts_by_hour:\n",
        "    no_of_posts = counts_by_hour[hour]\n",
        "    no_of_comments = comments_by_hour[hour]\n",
        "    avg_no_comments = comments_by_hour[hour] / counts_by_hour[hour] \n",
        "    avg_by_hour.append([hour,avg_no_comments])\n",
        "    \n",
        "print(avg_by_hour)"
      ],
      "execution_count": 8,
      "outputs": [
        {
          "output_type": "stream",
          "name": "stdout",
          "text": [
            "[[9, 5.5777777777777775], [13, 14.741176470588234], [10, 13.440677966101696], [14, 13.233644859813085], [16, 16.796296296296298], [23, 7.985294117647059], [12, 9.41095890410959], [17, 11.46], [15, 38.5948275862069], [21, 16.009174311926607], [20, 21.525], [2, 23.810344827586206], [18, 13.20183486238532], [3, 7.796296296296297], [5, 10.08695652173913], [19, 10.8], [1, 11.383333333333333], [22, 6.746478873239437], [8, 10.25], [4, 7.170212765957447], [0, 8.127272727272727], [6, 9.022727272727273], [7, 7.852941176470588], [11, 11.051724137931034]]\n"
          ]
        }
      ]
    },
    {
      "cell_type": "markdown",
      "metadata": {
        "id": "AcSI9yoRQe6A"
      },
      "source": [
        "Agora vamos classificar os dados acima em ordem decrescente do número médio de comentários para facilitar a análise."
      ]
    },
    {
      "cell_type": "code",
      "metadata": {
        "id": "IiOpW-E5Qe6C",
        "outputId": "2dd57072-2c79-412c-f2ff-c8287dfc6dc2",
        "colab": {
          "base_uri": "https://localhost:8080/"
        }
      },
      "source": [
        "swap_avg_by_hour = []\n",
        "\n",
        "for value in avg_by_hour:\n",
        "    swap_avg_by_hour.append([value[1],value[0]])\n",
        "    \n",
        "sorted_swap = sorted(swap_avg_by_hour,reverse = True)\n",
        "\n",
        "print('Os 5 horários com maior numéro médio de comentários por postagens do Ask HN')\n",
        "print('\\n')\n",
        "\n",
        "for row in sorted_swap:\n",
        "    template = '{time}:00: {num:.2f} média de comentários por post.'\n",
        "    print(template.format(time = row[1] , num = row[0]))"
      ],
      "execution_count": 9,
      "outputs": [
        {
          "output_type": "stream",
          "name": "stdout",
          "text": [
            "Os 5 horários com maior numéro médio de comentários por postagens do Ask HN\n",
            "\n",
            "\n",
            "15:00: 38.59 média de comentários por post.\n",
            "2:00: 23.81 média de comentários por post.\n",
            "20:00: 21.52 média de comentários por post.\n",
            "16:00: 16.80 média de comentários por post.\n",
            "21:00: 16.01 média de comentários por post.\n",
            "13:00: 14.74 média de comentários por post.\n",
            "10:00: 13.44 média de comentários por post.\n",
            "14:00: 13.23 média de comentários por post.\n",
            "18:00: 13.20 média de comentários por post.\n",
            "17:00: 11.46 média de comentários por post.\n",
            "1:00: 11.38 média de comentários por post.\n",
            "11:00: 11.05 média de comentários por post.\n",
            "19:00: 10.80 média de comentários por post.\n",
            "8:00: 10.25 média de comentários por post.\n",
            "5:00: 10.09 média de comentários por post.\n",
            "12:00: 9.41 média de comentários por post.\n",
            "6:00: 9.02 média de comentários por post.\n",
            "0:00: 8.13 média de comentários por post.\n",
            "23:00: 7.99 média de comentários por post.\n",
            "7:00: 7.85 média de comentários por post.\n",
            "3:00: 7.80 média de comentários por post.\n",
            "4:00: 7.17 média de comentários por post.\n",
            "22:00: 6.75 média de comentários por post.\n",
            "9:00: 5.58 média de comentários por post.\n"
          ]
        }
      ]
    },
    {
      "cell_type": "markdown",
      "metadata": {
        "id": "WLy61Ou7Qe6E"
      },
      "source": [
        "## **Conclusão**\n",
        "\n",
        "- As postagens de perguntas têm um número médio de comentários mais alto do que as postagens de exibição.\n",
        "- 15:00 GMT tem o maior número médio de comentários."
      ]
    },
    {
      "cell_type": "markdown",
      "source": [
        "\n",
        "### **Este projeto guiado faz parte do [*Data Enginnering Carreer Path*](https://www.dataquest.io/path/data-engineer/) proposto pela**\n",
        "\n",
        "<p align=\"center\">\n",
        "  <img src=\"https://www.bootcamprating.com/wp-content/uploads/2020/09/Dataquest_school_logo_image.png\" width=\"200\" >\n",
        "</p>"
      ],
      "metadata": {
        "id": "0KiLI7rymDgK"
      }
    }
  ]
}