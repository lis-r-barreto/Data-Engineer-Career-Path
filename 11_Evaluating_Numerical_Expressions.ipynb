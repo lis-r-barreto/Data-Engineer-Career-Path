{
  "nbformat": 4,
  "nbformat_minor": 0,
  "metadata": {
    "kernelspec": {
      "display_name": "Python 3",
      "language": "python",
      "name": "python3"
    },
    "language_info": {
      "codemirror_mode": {
        "name": "ipython",
        "version": 3
      },
      "file_extension": ".py",
      "mimetype": "text/x-python",
      "name": "python",
      "nbconvert_exporter": "python",
      "pygments_lexer": "ipython3",
      "version": "3.7.9"
    },
    "colab": {
      "name": "11-Evaluating-Numerical-Expressions.ipynb",
      "provenance": [],
      "include_colab_link": true
    }
  },
  "cells": [
    {
      "cell_type": "markdown",
      "metadata": {
        "id": "view-in-github",
        "colab_type": "text"
      },
      "source": [
        "<a href=\"https://colab.research.google.com/github/lis-r-barreto/Data-Engineering/blob/main/11_Evaluating_Numerical_Expressions.ipynb\" target=\"_parent\"><img src=\"https://colab.research.google.com/assets/colab-badge.svg\" alt=\"Open In Colab\"/></a>"
      ]
    },
    {
      "cell_type": "markdown",
      "metadata": {
        "id": "xhtySAguTzmd"
      },
      "source": [
        "# Evaluating Numerical Expressions\n",
        "\n",
        "In this project, we'll use stacks to build a function that can evaluate complex numerical expressions stored within a string.\n",
        "\n",
        "For example, to calculate the expression `21 / (11 - 4) * 2 + 5`, we'll implement a function named `evaluate()` to evaluate the expression stored as a string.\n",
        "\n",
        "    expression = \"21 / (11 - 4) * 2 + 5\"\n",
        "    print(evaluate(expression))\n",
        "    11\n",
        "\n",
        "First we'll define a class called `Stack` that will be used to create linked lists and stack the individual elements together from the expression to be evaluated."
      ]
    },
    {
      "cell_type": "code",
      "metadata": {
        "id": "oKdTXIv6Tzmj"
      },
      "source": [
        "class Node:\n",
        "    \n",
        "    def __init__(self, data):\n",
        "        self.data = data\n",
        "        self.prev = None\n",
        "        self.next = None"
      ],
      "execution_count": null,
      "outputs": []
    },
    {
      "cell_type": "code",
      "metadata": {
        "id": "mR5Pzsm-Tzmm"
      },
      "source": [
        "class Stack:\n",
        "\n",
        "    def __init__(self):\n",
        "        self.head = None\n",
        "        self.tail = None\n",
        "        self.length = 0\n",
        "\n",
        "    def append(self, data):\n",
        "        new_node = Node(data)\n",
        "        if self.length == 0:\n",
        "            self.head = self.tail = new_node\n",
        "        else:\n",
        "            self.tail.next = new_node\n",
        "            new_node.prev = self.tail\n",
        "            self.tail = new_node\n",
        "        self.length += 1\n",
        "\n",
        "    def __iter__(self):\n",
        "        self._iter_node = self.head\n",
        "        return self \n",
        "\n",
        "    def __next__(self):\n",
        "        if self._iter_node is None:\n",
        "            raise StopIteration\n",
        "        ret = self._iter_node.data\n",
        "        self._iter_node = self._iter_node.next\n",
        "        return ret\n",
        "\n",
        "    def prepend(self, data):\n",
        "        new_node = Node(data)\n",
        "        if self.length == 0:\n",
        "            self.head = self.tail = new_node\n",
        "        else:\n",
        "            self.head.prev = new_node\n",
        "            new_node.next = self.head\n",
        "            self.head = new_node\n",
        "        self.length += 1\n",
        "\n",
        "    def __len__(self):\n",
        "        return self.length\n",
        "\n",
        "    def __str__(self):\n",
        "        return str([value for value in self])\n",
        "    \n",
        "    def push(self, data):\n",
        "        self.append(data)\n",
        "\n",
        "    def peek(self):\n",
        "        return self.tail.data\n",
        "\n",
        "    def pop(self):\n",
        "        ret = self.tail.data\n",
        "        if self.length == 1:\n",
        "            self.tail = self.head = None\n",
        "        else:\n",
        "            self.tail = self.tail.prev\n",
        "            self.tail.next = None\n",
        "        self.length -= 1\n",
        "        return ret"
      ],
      "execution_count": null,
      "outputs": []
    },
    {
      "cell_type": "markdown",
      "metadata": {
        "id": "TR4X1j8ITzms"
      },
      "source": [
        "## Infix & Postfix Notation\n",
        "\n",
        "Expression are written using infix notation, meaning that the operators are placed between the operands. For example, the operator + is between two operands in the expression `1 + 10`.\n",
        "\n",
        "In postfix notation, the operands come before the operator, so `1 + 10` would look like `1 10 +`. This notation is easier for a computer to understand, and we can evaluate an expression in postfix using a stack. \n",
        "\n",
        "By reading the expression from left to right, if there is a number, that number gets pushed to the top of the stack. Then when we find an operator, we pop the top two elements of the stack, perform than operation, and push the result back into the stack. In the end, we're left with one last final value that is the result of our expression. \n",
        "\n",
        "For our function to work, we're going to evaluate in postfix notation. We can then later on create a function to convert an expression in infix notation into postfix to be more user-friendly. The first step is to transform our expression into a list of tokens."
      ]
    },
    {
      "cell_type": "code",
      "metadata": {
        "id": "RJC0IqqETzmw",
        "outputId": "b59fe586-475c-4733-f931-4cbe03e1c61b"
      },
      "source": [
        "def tokenize(expression):\n",
        "    return expression.split()\n",
        "\n",
        "print(tokenize(\"12 2 4 + / 21 *\"))"
      ],
      "execution_count": null,
      "outputs": [
        {
          "name": "stdout",
          "output_type": "stream",
          "text": [
            "['12', '2', '4', '+', '/', '21', '*']\n"
          ]
        }
      ]
    },
    {
      "cell_type": "markdown",
      "metadata": {
        "id": "Bk2H-zZ3Tzmy"
      },
      "source": [
        "## Processing an Operator\n",
        "\n",
        "When our function comes across an operator, we need it to pop the top two values of the stack, and apply the operator to those two elements in the correct order. So if our expression is `10 - 1`, we need to subtract 1 from 10 and not 10 from 1. The element at the top of the stack is the 2nd operand in the expression, and the 2nd element in the stack is the 1st operand.\n",
        "\n",
        "We'll define several functions for to account for each of the operators we'll find in our expressions."
      ]
    },
    {
      "cell_type": "code",
      "metadata": {
        "id": "ifGFVJaOTzmz"
      },
      "source": [
        "def process_minus(stack):\n",
        "    top = stack.pop()\n",
        "    second_to_top = stack.pop()\n",
        "    result = second_to_top - top  # subtraction\n",
        "    stack.push(result)"
      ],
      "execution_count": null,
      "outputs": []
    },
    {
      "cell_type": "code",
      "metadata": {
        "id": "xoXyMFxgTzm2"
      },
      "source": [
        "def process_plus(stack):\n",
        "    top = stack.pop()\n",
        "    second_to_top = stack.pop()\n",
        "    result = second_to_top + top # addition\n",
        "    stack.push(result)"
      ],
      "execution_count": null,
      "outputs": []
    },
    {
      "cell_type": "code",
      "metadata": {
        "id": "0Dsy5JZuTzm4"
      },
      "source": [
        "def process_time(stack):\n",
        "    top = stack.pop()\n",
        "    second_to_top = stack.pop()\n",
        "    result = second_to_top * top # multiplication\n",
        "    stack.push(result)"
      ],
      "execution_count": null,
      "outputs": []
    },
    {
      "cell_type": "code",
      "metadata": {
        "id": "bFTp013QTzm7"
      },
      "source": [
        "def process_divide(stack):\n",
        "    top = stack.pop()\n",
        "    second_to_top = stack.pop()\n",
        "    result = second_to_top / top # division\n",
        "    stack.push(result)"
      ],
      "execution_count": null,
      "outputs": []
    },
    {
      "cell_type": "code",
      "metadata": {
        "id": "W7UbsFZxTzm8"
      },
      "source": [
        "def process_pow(stack):\n",
        "    top = stack.pop()\n",
        "    second_to_top = stack.pop()\n",
        "    result = second_to_top ** top # exponential\n",
        "    stack.push(result)"
      ],
      "execution_count": null,
      "outputs": []
    },
    {
      "cell_type": "markdown",
      "metadata": {
        "id": "hlAy2agVTzm-"
      },
      "source": [
        "## Evaluating Postfix Expressions\n",
        "\n",
        "Next, we'll create a function called `evaluate_postfix()` that will tokenize our expression, and then extract the operator and call the corresponding function to process the expression."
      ]
    },
    {
      "cell_type": "code",
      "metadata": {
        "id": "lwPfdPa5Tzm_"
      },
      "source": [
        "def evaluate_postfix(expression):\n",
        "    tokens = tokenize(expression)\n",
        "    stack = Stack()\n",
        "    for token in tokens:\n",
        "        if token == '-':\n",
        "            process_minus(stack)\n",
        "        elif token == '+':\n",
        "            process_plus(stack)\n",
        "        elif token == '*':\n",
        "            process_time(stack)\n",
        "        elif token == '/':\n",
        "            process_divide(stack)\n",
        "        elif token == '**':\n",
        "            process_pow(stack)\n",
        "        else:\n",
        "            stack.push(float(token))\n",
        "    return stack.pop()"
      ],
      "execution_count": null,
      "outputs": []
    },
    {
      "cell_type": "code",
      "metadata": {
        "id": "Q280Ghi9TznA",
        "outputId": "f4c67755-5567-40d1-f812-b9a8a51f3eb9"
      },
      "source": [
        "# Testing the function\n",
        "expressions = [\n",
        "    \"4 6 -\",\n",
        "    \"4 1 2 9 3 / * + 5 - *\",\n",
        "    \"1 2 + 3 -\",\n",
        "    \"1 2 - 3 +\",\n",
        "    \"10 3 5 * 16 4 - / +\",\n",
        "    \"5 3 4 2 - ** *\",\n",
        "    \"12 2 4 + / 21 *\",\n",
        "    \"1 1 + 2 **\",\n",
        "    \"1 1 2 ** +\"\n",
        "]\n",
        "\n",
        "for expression in expressions:\n",
        "    print(evaluate_postfix(expression))"
      ],
      "execution_count": null,
      "outputs": [
        {
          "name": "stdout",
          "output_type": "stream",
          "text": [
            "-2.0\n",
            "8.0\n",
            "0.0\n",
            "2.0\n",
            "11.25\n",
            "45.0\n",
            "42.0\n",
            "4.0\n",
            "2.0\n"
          ]
        }
      ]
    },
    {
      "cell_type": "markdown",
      "metadata": {
        "id": "5Xyxyu6yTznB"
      },
      "source": [
        "## Operator Precedence in Infix Notation\n",
        "\n",
        "Now that we've enabled the algorithm to evaluate postfix expressions, we need to take it one step further to enable it to evaluate infix expressions. We can do this by implementing a [Shunting-yard algorithm](https://en.wikipedia.org/wiki/Shunting-yard_algorithm#:~:text=In%20computer%20science%2C%20the%20shunting,abstract%20syntax%20tree%20(AST).) and  create a dictionary of precedence.\n",
        "\n",
        "The operation precedence rules are very important because they define the order in which the operations are performed. For example, in the expression `2 + 3 * 4`, we first need to multiply 3 by 4 before we add the 2. We can compare the precedence of our operators in our dictionary by assigning number values to the operators. This makes it easier to check if an operator has higher or lower precedence than another."
      ]
    },
    {
      "cell_type": "code",
      "metadata": {
        "id": "9uif7hk4TznC",
        "outputId": "5888c37d-e3a0-4a6b-919f-638b69aba4da"
      },
      "source": [
        "precedence = {\n",
        "    '+': 1,\n",
        "    '-': 1,\n",
        "    '*': 2,\n",
        "    '/': 2,\n",
        "    '**': 3\n",
        "}\n",
        "\n",
        "# Test the precedence dictionary\n",
        "print(precedence['+'] < precedence['*'])\n",
        "print(precedence['-'] < precedence['+'])\n",
        "print(precedence['/'] < precedence['**'])\n",
        "print(precedence['**'] < precedence['-'])"
      ],
      "execution_count": null,
      "outputs": [
        {
          "name": "stdout",
          "output_type": "stream",
          "text": [
            "True\n",
            "False\n",
            "True\n",
            "False\n"
          ]
        }
      ]
    },
    {
      "cell_type": "markdown",
      "metadata": {
        "id": "-kk5Z5hITznD"
      },
      "source": [
        "## Handling Parenthesis\n",
        "\n",
        "The next challenge in evaluating expressions is dealing with parenthesis.\n",
        "\n",
        "For **opening parenthesis**, we'll need to call a function that will push the string \"(\" into the stack.\n",
        "\n",
        "For **closing parenthesis**, as long as the top of the stack isn't an opening parenthesis, we'll need a function that pops the top element and appends it to the postfix token list. The last part of our function will pop the opening parentheses out from the end of the stack."
      ]
    },
    {
      "cell_type": "code",
      "metadata": {
        "id": "QrTBbowRTznE"
      },
      "source": [
        "# Opening Parenthesis\n",
        "def open_parenthesis(stack):\n",
        "    stack.push('(')\n",
        "\n",
        "# Closing Parenthesis\n",
        "def close_parenthesis(stack, postfix):\n",
        "    while stack.peek() != '(':\n",
        "        postfix.append(stack.pop()) # Adds tokens until we reach \"(\"\n",
        "    stack.pop() # Removes the \"(\" from the end of the stack"
      ],
      "execution_count": null,
      "outputs": []
    },
    {
      "cell_type": "markdown",
      "metadata": {
        "id": "p28JkvtVTznF"
      },
      "source": [
        "## Handling Operators\n",
        "\n",
        "We need a function to handle the operators in the expression. This function will pop the top element and append it to the postfix token list as long as the top of the stack is an operator with a precedence greater than or equal to the current operator. Then it will push the current operator to the top of the stack.\n",
        "\n",
        "`stack.peek()` will allow us to view the top of the stack without removing it."
      ]
    },
    {
      "cell_type": "code",
      "metadata": {
        "id": "6YoVmtB6TznG"
      },
      "source": [
        "def process_operator(stack, postfix, operator):\n",
        "    while len(stack) > 0 and stack.peek() in precedence and precedence[stack.peek()] >= precedence[operator]:\n",
        "        postfix.append(stack.pop())\n",
        "    stack.push(operator)"
      ],
      "execution_count": null,
      "outputs": []
    },
    {
      "cell_type": "markdown",
      "metadata": {
        "id": "1wTDNJy4TznH"
      },
      "source": [
        "## Handling Operands\n",
        "\n",
        "The last function to process the tokens in our expression will need to handle the numbers. Any number we come across will need to be pushed into the postfix token list."
      ]
    },
    {
      "cell_type": "code",
      "metadata": {
        "id": "reCJxVM_TznH"
      },
      "source": [
        "def process_number(postfix, number):\n",
        "    postfix.append(number)"
      ],
      "execution_count": null,
      "outputs": []
    },
    {
      "cell_type": "markdown",
      "metadata": {
        "id": "1QmPjGaHTznI"
      },
      "source": [
        "## Implementing the Shunting-yard Algorithm\n",
        "\n",
        "Now we have everything we need to convert an expression from infix notation to postfix notation. The function will work like this:\n",
        "\n",
        "1. Split the expression into tokens using `tokenize()`.\n",
        "2. Initialize an empty stack.\n",
        "3. Initialize an empty postfix token list.\n",
        "4. Iterate over all tokens, and for each token:\n",
        "    * If token is \"(\", call `open_parenthesis()`\n",
        "    * If token is \")\", call `close_parenthesis()`\n",
        "    * If token is operator, call `process_operator()`\n",
        "    * If token is operand, call `process_number()`\n",
        "5. After all tokens are processed, pop the remaining stack element into the postfix token list.\n",
        "6. Convert the postfix token into a string using `str.join()`"
      ]
    },
    {
      "cell_type": "code",
      "metadata": {
        "id": "Y-P44vo_TznK"
      },
      "source": [
        "def infix_to_postfix(expression):\n",
        "    tokens = tokenize(expression)\n",
        "    stack = Stack()\n",
        "    postfix = []\n",
        "    for token in tokens:\n",
        "        if token == '(':\n",
        "            open_parenthesis(stack)\n",
        "        elif token == ')':\n",
        "            close_parenthesis(stack, postfix)\n",
        "        elif token in precedence:\n",
        "            process_operator(stack, postfix, token)\n",
        "        else:\n",
        "            process_number(postfix, token)\n",
        "    while len(stack) > 0:\n",
        "        postfix.append(stack.pop())\n",
        "    return ' '.join(postfix)"
      ],
      "execution_count": null,
      "outputs": []
    },
    {
      "cell_type": "markdown",
      "metadata": {
        "id": "e2pWc59MTznL"
      },
      "source": [
        "## Evaluating Infix Expressions\n",
        "\n",
        "Now we'll combine the function that transforms infix expressions to postfix notation and the function that evaluates that expression in postfix notation into a function called `evaluate()`."
      ]
    },
    {
      "cell_type": "code",
      "metadata": {
        "id": "vNrSJwh4TznM"
      },
      "source": [
        "def evaluate(expression):\n",
        "    postfix_expression = infix_to_postfix(expression)\n",
        "    return evaluate_postfix(postfix_expression)"
      ],
      "execution_count": null,
      "outputs": []
    },
    {
      "cell_type": "markdown",
      "metadata": {
        "id": "RRCRVj7UTznM"
      },
      "source": [
        "## Testing the Function\n",
        "\n",
        "Let's test the function on some expressions and see if we get the correct results."
      ]
    },
    {
      "cell_type": "code",
      "metadata": {
        "id": "8tLk4Tv0TznN",
        "outputId": "e38c0c5b-dded-443b-a5de-04d4f7b23177"
      },
      "source": [
        "expressions = [\n",
        "    '1 + 2',\n",
        "    '1 * ( 2 - ( 1 + 2 ) )',\n",
        "    '4 * ( 1 + 2 * ( 9 / 3 ) - 5 )',\n",
        "    '10 + 3 * 5 / ( 16 - 4 * 1 )',\n",
        "    '2 * 2 * 2 * 2 * 2 * 2 * 2 * 2',\n",
        "    '2 ** 2 ** 2 ** 2 ** 2',\n",
        "    '( 1 - 2 ) / ( 3 - 5 )',\n",
        "    '9 / 8 * 8',\n",
        "    '64 / ( 8 * 8 )',\n",
        "]\n",
        "\n",
        "for expression in expressions:\n",
        "    print(evaluate(expression))"
      ],
      "execution_count": null,
      "outputs": [
        {
          "name": "stdout",
          "output_type": "stream",
          "text": [
            "3.0\n",
            "-1.0\n",
            "8.0\n",
            "11.25\n",
            "256.0\n",
            "65536.0\n",
            "0.5\n",
            "9.0\n",
            "1.0\n"
          ]
        }
      ]
    },
    {
      "cell_type": "markdown",
      "metadata": {
        "id": "q_mpkfD-TznO"
      },
      "source": [
        "## Conclusion & Next Steps\n",
        "\n",
        "In this project we created a function to evaluate expressions stored as strings. This function shows us just how powerful stacks can be and how they can be used to help us solve complex problems. \n",
        "\n",
        "Some next steps we could take to make our function more robust are:\n",
        "* Improve `tokenize()` so that functions can be written without a space between each item in the string.\n",
        "* Add more functionality like a square root operator or integer division. \n",
        "\n",
        "The idea for this project comes from the [DATAQUEST](https://app.dataquest.io/) **Data Structures Fundamentals** course."
      ]
    }
  ]
}